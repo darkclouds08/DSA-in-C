{
  "nbformat": 4,
  "nbformat_minor": 0,
  "metadata": {
    "colab": {
      "provenance": [],
      "authorship_tag": "ABX9TyPSRhYSup+aZwrJrno6Unhv",
      "include_colab_link": true
    },
    "kernelspec": {
      "name": "python3",
      "display_name": "Python 3"
    },
    "language_info": {
      "name": "python"
    }
  },
  "cells": [
    {
      "cell_type": "markdown",
      "metadata": {
        "id": "view-in-github",
        "colab_type": "text"
      },
      "source": [
        "<a href=\"https://colab.research.google.com/github/darkclouds08/DSA-in-C/blob/main/DSTT_Assignment_1.ipynb\" target=\"_parent\"><img src=\"https://colab.research.google.com/assets/colab-badge.svg\" alt=\"Open In Colab\"/></a>"
      ]
    },
    {
      "cell_type": "markdown",
      "source": [
        "Name: Karmuhilan K J\n",
        "\n",
        "Reg. No.: 22-27-08\n",
        "\n",
        "Subject: DSTT (Assignment-1)"
      ],
      "metadata": {
        "id": "JFaFw_TipmD6"
      }
    },
    {
      "cell_type": "code",
      "execution_count": 48,
      "metadata": {
        "colab": {
          "base_uri": "https://localhost:8080/"
        },
        "id": "7PG1t64JWGND",
        "outputId": "6109e07d-bec8-48da-9bf8-c7a2342af155"
      },
      "outputs": [
        {
          "output_type": "stream",
          "name": "stdout",
          "text": [
            "Enter the number of elements: 3\n",
            "Enter the list elements: 1 2 3\n",
            "3 4 3\n"
          ]
        }
      ],
      "source": [
        "N,A = int(input(\"Enter the number of elements: \")),list(map(int, input(\"Enter the list elements: \").split()))\n",
        "print(*[A[i] * A[-1-i] for i in range(N)]) # * in the front prints list in normal format"
      ]
    },
    {
      "cell_type": "code",
      "source": [
        "lst = sorted(set(map(int, input(\"Enter the list elements: \").split())))\n",
        "print(lst[-2], lst[1])"
      ],
      "metadata": {
        "colab": {
          "base_uri": "https://localhost:8080/"
        },
        "id": "PAj3MK-lW1FT",
        "outputId": "aa79fe3f-77d2-4b12-b4ce-199288c86805"
      },
      "execution_count": 49,
      "outputs": [
        {
          "output_type": "stream",
          "name": "stdout",
          "text": [
            "Enter the list elements: 1 2 3 4 5 6\n",
            "5 2\n"
          ]
        }
      ]
    },
    {
      "cell_type": "code",
      "source": [
        "print(*[i for i in list(map(int, input(\"Enter the list elements: \").split())) if i%5 != 0])"
      ],
      "metadata": {
        "colab": {
          "base_uri": "https://localhost:8080/"
        },
        "id": "oSIf-sPQbEED",
        "outputId": "216997ec-bc20-46ff-d5d4-782b128a6de2"
      },
      "execution_count": 50,
      "outputs": [
        {
          "output_type": "stream",
          "name": "stdout",
          "text": [
            "Enter the list elements: 1 5 12 26 55 3 90 6\n",
            "1 12 26 3 6\n"
          ]
        }
      ]
    },
    {
      "cell_type": "code",
      "source": [
        "io = input(\"Enter the numbers: \")\n",
        "print('Yes') if io.count('1') in [1, len(io)-1] else print(\"No\")"
      ],
      "metadata": {
        "id": "_jYYJN8cfOtR",
        "colab": {
          "base_uri": "https://localhost:8080/"
        },
        "outputId": "59c45760-ed9f-4c13-8ee7-636c4e52cd5a"
      },
      "execution_count": 53,
      "outputs": [
        {
          "output_type": "stream",
          "name": "stdout",
          "text": [
            "Enter the numbers: 1100\n",
            "No\n"
          ]
        }
      ]
    },
    {
      "cell_type": "code",
      "source": [
        "def factorial(n):\n",
        "    return 1 if n == 1 else n * factorial(n - 1)\n",
        "print(factorial(int(input(\"Enter the number: \"))))"
      ],
      "metadata": {
        "colab": {
          "base_uri": "https://localhost:8080/"
        },
        "id": "fr1tsT-YrAcQ",
        "outputId": "560a8e57-db59-47d0-d4ed-349a06875df0"
      },
      "execution_count": 59,
      "outputs": [
        {
          "output_type": "stream",
          "name": "stdout",
          "text": [
            "Enter the number: 4\n",
            "24\n"
          ]
        }
      ]
    },
    {
      "cell_type": "code",
      "source": [
        "m,n = map(int, input(\"Enter m and n: \").split())\n",
        "print(str([k for k in range(m,n+1) if all(map(lambda x: int(x)%2 == 0, str(k)))])[1:-1])"
      ],
      "metadata": {
        "colab": {
          "base_uri": "https://localhost:8080/"
        },
        "id": "srX6ZZEZvpYd",
        "outputId": "7d375338-29f5-4741-b09a-e00e278859ce"
      },
      "execution_count": 57,
      "outputs": [
        {
          "output_type": "stream",
          "name": "stdout",
          "text": [
            "Enter m and n: 25 250\n",
            "26, 28, 40, 42, 44, 46, 48, 60, 62, 64, 66, 68, 80, 82, 84, 86, 88, 200, 202, 204, 206, 208, 220, 222, 224, 226, 228, 240, 242, 244, 246, 248\n"
          ]
        }
      ]
    }
  ]
}